{
 "cells": [
  {
   "cell_type": "code",
   "execution_count": 3,
   "id": "a82fd30b-6ca9-483a-814d-12a9e194c599",
   "metadata": {
    "tags": []
   },
   "outputs": [],
   "source": [
    "from time import sleep\n",
    "from bs4 import BeautifulSoup\n",
    "import requests\n",
    "import pandas as pd"
   ]
  },
  {
   "cell_type": "code",
   "execution_count": 2,
   "id": "03f90123-6dc4-47d1-91af-03c920bfa99d",
   "metadata": {
    "tags": []
   },
   "outputs": [
    {
     "name": "stdout",
     "output_type": "stream",
     "text": [
      "d_listの大きさ： 0\n",
      "https://suumo.jp/chintai/tokyo/sc_shinjuku/?page=1\n",
      "d_listの大きさ： 234\n",
      "https://suumo.jp/chintai/tokyo/sc_shinjuku/?page=2\n"
     ]
    }
   ],
   "source": [
    "# 変数urlにSUUMOホームページのURLを格納する\n",
    "url = 'https://suumo.jp/chintai/tokyo/sc_shinjuku/?page={}'\n",
    "\n",
    "# 変数d_listに空のリストを作成する\n",
    "d_list = []\n",
    "\n",
    "# アクセスするためのURLをtarget_urlに格納する\n",
    "for i in range(1, 3):\n",
    "    print('d_listの大きさ：', len(d_list))\n",
    "    target_url = url.format(i)\n",
    "\n",
    "    # print()してtarget_urlを確認する\n",
    "    print(target_url)\n",
    "\n",
    "    # target_urlへのアクセス結果を、変数rに格納\n",
    "    r = requests.get(target_url)\n",
    "    \n",
    "    sleep(1)\n",
    "\n",
    "    # 取得結果を解析してsoupに格納\n",
    "    soup = BeautifulSoup(r.text)\n",
    "    \n",
    "    # すべての物件情報(20件)を取得する\n",
    "    contents = soup.find_all('div', class_='cassetteitem')\n",
    "\n",
    "    # 各物件情報をforループで取得する\n",
    "    for content in contents:\n",
    "        # 物件情報と部屋情報を取得しておく\n",
    "        detail = content.find('div', class_='cassetteitem_content')\n",
    "        table = content.find('table', class_='cassetteitem_other')\n",
    "\n",
    "        # 物件情報から必要な情報を取得する\n",
    "        title = detail.find('div', class_='cassetteitem_content-title').text\n",
    "        address = detail.find('li', class_='cassetteitem_detail-col1').text\n",
    "        access = detail.find('li', class_='cassetteitem_detail-col2').text\n",
    "        age = detail.find('li', class_='cassetteitem_detail-col3').text\n",
    "\n",
    "        # 部屋情報のブロックから、各部屋情報を取得する\n",
    "        tr_tags = table.find_all('tr', class_='js-cassette_link')\n",
    "\n",
    "        # 各部屋情報をforループで取得する\n",
    "        for tr_tag in tr_tags:        \n",
    "\n",
    "            # 部屋情報の行から、欲しい情報を取得する\n",
    "            floor, price, first_fee, capacity = tr_tag.find_all('td')[2:6]\n",
    "\n",
    "            # さらに細かい情報を取得する\n",
    "            fee, management_fee = price.find_all('li')\n",
    "            deposit, gratuity = first_fee.find_all('li')\n",
    "            madori, menseki = capacity.find_all('li')\n",
    "\n",
    "            # 取得したすべての情報を辞書に格納する\n",
    "            d = {\n",
    "                'title': title,\n",
    "                'address': address,\n",
    "                'access': access,\n",
    "                'age': age,\n",
    "                'floor': floor.text,\n",
    "                'fee': fee.text,\n",
    "                'management_fee': management_fee.text,\n",
    "                'deposit': deposit.text,\n",
    "                'gratuity': gratuity.text,\n",
    "                'madori': madori.text,\n",
    "                'menseki': menseki.text\n",
    "            }\n",
    "\n",
    "            # 取得した辞書をd_listに格納する\n",
    "            d_list.append(d)"
   ]
  },
  {
   "cell_type": "code",
   "execution_count": 4,
   "id": "946fcbdb-daad-43ab-beed-cb2e7c7041bb",
   "metadata": {
    "tags": []
   },
   "outputs": [],
   "source": [
    "df = pd.DataFrame(d_list)"
   ]
  },
  {
   "cell_type": "code",
   "execution_count": 5,
   "id": "6d8ea572-53c0-46a6-bd2f-5438ce10c2b1",
   "metadata": {
    "tags": []
   },
   "outputs": [
    {
     "data": {
      "text/html": [
       "<div>\n",
       "<style scoped>\n",
       "    .dataframe tbody tr th:only-of-type {\n",
       "        vertical-align: middle;\n",
       "    }\n",
       "\n",
       "    .dataframe tbody tr th {\n",
       "        vertical-align: top;\n",
       "    }\n",
       "\n",
       "    .dataframe thead th {\n",
       "        text-align: right;\n",
       "    }\n",
       "</style>\n",
       "<table border=\"1\" class=\"dataframe\">\n",
       "  <thead>\n",
       "    <tr style=\"text-align: right;\">\n",
       "      <th></th>\n",
       "      <th>title</th>\n",
       "      <th>address</th>\n",
       "      <th>access</th>\n",
       "      <th>age</th>\n",
       "      <th>floor</th>\n",
       "      <th>fee</th>\n",
       "      <th>management_fee</th>\n",
       "      <th>deposit</th>\n",
       "      <th>gratuity</th>\n",
       "      <th>madori</th>\n",
       "      <th>menseki</th>\n",
       "    </tr>\n",
       "  </thead>\n",
       "  <tbody>\n",
       "    <tr>\n",
       "      <th>0</th>\n",
       "      <td>ライトテラス新宿御苑</td>\n",
       "      <td>東京都新宿区新宿１</td>\n",
       "      <td>\\n東京メトロ丸ノ内線/新宿御苑前駅 歩4分\\nＪＲ山手線/新宿駅 歩16分\\n都営新宿線/...</td>\n",
       "      <td>\\n築4年\\n地下1地上18階建\\n</td>\n",
       "      <td>\\r\\n\\t\\t\\t\\t\\t\\t\\t\\t\\t\\t\\t5階</td>\n",
       "      <td>34万円</td>\n",
       "      <td>15000円</td>\n",
       "      <td>34万円</td>\n",
       "      <td>34万円</td>\n",
       "      <td>2LDK</td>\n",
       "      <td>57.97m2</td>\n",
       "    </tr>\n",
       "    <tr>\n",
       "      <th>1</th>\n",
       "      <td>ライトテラス新宿御苑</td>\n",
       "      <td>東京都新宿区新宿１</td>\n",
       "      <td>\\n東京メトロ丸ノ内線/新宿御苑前駅 歩4分\\nＪＲ山手線/新宿駅 歩16分\\n都営新宿線/...</td>\n",
       "      <td>\\n築4年\\n地下1地上18階建\\n</td>\n",
       "      <td>\\r\\n\\t\\t\\t\\t\\t\\t\\t\\t\\t\\t\\t8階</td>\n",
       "      <td>34.5万円</td>\n",
       "      <td>15000円</td>\n",
       "      <td>34.5万円</td>\n",
       "      <td>34.5万円</td>\n",
       "      <td>2LDK</td>\n",
       "      <td>57.97m2</td>\n",
       "    </tr>\n",
       "    <tr>\n",
       "      <th>2</th>\n",
       "      <td>ライトテラス新宿御苑</td>\n",
       "      <td>東京都新宿区新宿１</td>\n",
       "      <td>\\n東京メトロ丸ノ内線/新宿御苑前駅 歩4分\\nＪＲ山手線/新宿駅 歩16分\\n都営新宿線/...</td>\n",
       "      <td>\\n築4年\\n地下1地上18階建\\n</td>\n",
       "      <td>\\r\\n\\t\\t\\t\\t\\t\\t\\t\\t\\t\\t\\t10階</td>\n",
       "      <td>35万円</td>\n",
       "      <td>15000円</td>\n",
       "      <td>35万円</td>\n",
       "      <td>35万円</td>\n",
       "      <td>1SLDK</td>\n",
       "      <td>57.97m2</td>\n",
       "    </tr>\n",
       "    <tr>\n",
       "      <th>3</th>\n",
       "      <td>ライトテラス新宿御苑</td>\n",
       "      <td>東京都新宿区新宿１</td>\n",
       "      <td>\\n東京メトロ丸ノ内線/新宿御苑前駅 歩4分\\nＪＲ山手線/新宿駅 歩16分\\n都営新宿線/...</td>\n",
       "      <td>\\n築4年\\n地下1地上18階建\\n</td>\n",
       "      <td>\\r\\n\\t\\t\\t\\t\\t\\t\\t\\t\\t\\t\\t7階</td>\n",
       "      <td>39万円</td>\n",
       "      <td>15000円</td>\n",
       "      <td>39万円</td>\n",
       "      <td>39万円</td>\n",
       "      <td>3LDK</td>\n",
       "      <td>65.31m2</td>\n",
       "    </tr>\n",
       "    <tr>\n",
       "      <th>4</th>\n",
       "      <td>ライトテラス新宿御苑</td>\n",
       "      <td>東京都新宿区新宿１</td>\n",
       "      <td>\\n東京メトロ丸ノ内線/新宿御苑前駅 歩4分\\nＪＲ山手線/新宿駅 歩16分\\n都営新宿線/...</td>\n",
       "      <td>\\n築4年\\n地下1地上18階建\\n</td>\n",
       "      <td>\\r\\n\\t\\t\\t\\t\\t\\t\\t\\t\\t\\t\\t7階</td>\n",
       "      <td>39万円</td>\n",
       "      <td>15000円</td>\n",
       "      <td>39万円</td>\n",
       "      <td>39万円</td>\n",
       "      <td>3LDK</td>\n",
       "      <td>65.31m2</td>\n",
       "    </tr>\n",
       "  </tbody>\n",
       "</table>\n",
       "</div>"
      ],
      "text/plain": [
       "        title    address                                             access  \\\n",
       "0  ライトテラス新宿御苑  東京都新宿区新宿１  \\n東京メトロ丸ノ内線/新宿御苑前駅 歩4分\\nＪＲ山手線/新宿駅 歩16分\\n都営新宿線/...   \n",
       "1  ライトテラス新宿御苑  東京都新宿区新宿１  \\n東京メトロ丸ノ内線/新宿御苑前駅 歩4分\\nＪＲ山手線/新宿駅 歩16分\\n都営新宿線/...   \n",
       "2  ライトテラス新宿御苑  東京都新宿区新宿１  \\n東京メトロ丸ノ内線/新宿御苑前駅 歩4分\\nＪＲ山手線/新宿駅 歩16分\\n都営新宿線/...   \n",
       "3  ライトテラス新宿御苑  東京都新宿区新宿１  \\n東京メトロ丸ノ内線/新宿御苑前駅 歩4分\\nＪＲ山手線/新宿駅 歩16分\\n都営新宿線/...   \n",
       "4  ライトテラス新宿御苑  東京都新宿区新宿１  \\n東京メトロ丸ノ内線/新宿御苑前駅 歩4分\\nＪＲ山手線/新宿駅 歩16分\\n都営新宿線/...   \n",
       "\n",
       "                  age                          floor     fee management_fee  \\\n",
       "0  \\n築4年\\n地下1地上18階建\\n   \\r\\n\\t\\t\\t\\t\\t\\t\\t\\t\\t\\t\\t5階    34万円         15000円   \n",
       "1  \\n築4年\\n地下1地上18階建\\n   \\r\\n\\t\\t\\t\\t\\t\\t\\t\\t\\t\\t\\t8階  34.5万円         15000円   \n",
       "2  \\n築4年\\n地下1地上18階建\\n  \\r\\n\\t\\t\\t\\t\\t\\t\\t\\t\\t\\t\\t10階    35万円         15000円   \n",
       "3  \\n築4年\\n地下1地上18階建\\n   \\r\\n\\t\\t\\t\\t\\t\\t\\t\\t\\t\\t\\t7階    39万円         15000円   \n",
       "4  \\n築4年\\n地下1地上18階建\\n   \\r\\n\\t\\t\\t\\t\\t\\t\\t\\t\\t\\t\\t7階    39万円         15000円   \n",
       "\n",
       "  deposit gratuity madori  menseki  \n",
       "0    34万円     34万円   2LDK  57.97m2  \n",
       "1  34.5万円   34.5万円   2LDK  57.97m2  \n",
       "2    35万円     35万円  1SLDK  57.97m2  \n",
       "3    39万円     39万円   3LDK  65.31m2  \n",
       "4    39万円     39万円   3LDK  65.31m2  "
      ]
     },
     "execution_count": 5,
     "metadata": {},
     "output_type": "execute_result"
    }
   ],
   "source": [
    "df.head() "
   ]
  },
  {
   "cell_type": "code",
   "execution_count": 6,
   "id": "1a3e15e3-5c19-491a-9b74-43eac5e2ec84",
   "metadata": {
    "tags": []
   },
   "outputs": [
    {
     "data": {
      "text/plain": [
       "(448, 11)"
      ]
     },
     "execution_count": 6,
     "metadata": {},
     "output_type": "execute_result"
    }
   ],
   "source": [
    "df.shape"
   ]
  },
  {
   "cell_type": "code",
   "execution_count": 7,
   "id": "dbc6d755-a245-46f7-b5c4-7515e3cfed6b",
   "metadata": {
    "tags": []
   },
   "outputs": [
    {
     "data": {
      "text/plain": [
       "40"
      ]
     },
     "execution_count": 7,
     "metadata": {},
     "output_type": "execute_result"
    }
   ],
   "source": [
    "len(df.title.unique())"
   ]
  },
  {
   "cell_type": "code",
   "execution_count": 8,
   "id": "3b30e29d-02a9-4017-b387-166f0ecaaa5f",
   "metadata": {
    "tags": []
   },
   "outputs": [],
   "source": [
    "# to_csv()を使って、データフレームをCSV出力する\n",
    "df.to_csv(\"test.csv\", index=None, encoding=\"utf-8-sig\")"
   ]
  },
  {
   "cell_type": "code",
   "execution_count": null,
   "id": "6f5c11c8-916e-48bd-af66-1d541b5b1817",
   "metadata": {},
   "outputs": [],
   "source": [
    "\n"
   ]
  }
 ],
 "metadata": {
  "kernelspec": {
   "display_name": "Python 3 (ipykernel)",
   "language": "python",
   "name": "python3"
  },
  "language_info": {
   "codemirror_mode": {
    "name": "ipython",
    "version": 3
   },
   "file_extension": ".py",
   "mimetype": "text/x-python",
   "name": "python",
   "nbconvert_exporter": "python",
   "pygments_lexer": "ipython3",
   "version": "3.11.5"
  }
 },
 "nbformat": 4,
 "nbformat_minor": 5
}
